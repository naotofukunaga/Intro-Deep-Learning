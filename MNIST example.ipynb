{
 "cells": [
  {
   "cell_type": "code",
   "execution_count": 1,
   "metadata": {},
   "outputs": [
    {
     "name": "stderr",
     "output_type": "stream",
     "text": [
      "Using TensorFlow backend.\n"
     ]
    }
   ],
   "source": [
    "import tensorflow as tf\n",
    "import numpy as np\n",
    "import pandas as pd\n",
    "\n",
    "\n",
    "import matplotlib.pyplot as plt\n",
    "from keras.utils import to_categorical\n",
    "from sklearn.model_selection import train_test_split\n",
    "\n",
    "import keras\n",
    "from keras.models import Sequential\n",
    "from keras.layers import Dense, Dropout, Flatten, Input\n",
    "from keras.layers import Conv2D, MaxPooling2D\n",
    "from keras.layers.normalization import BatchNormalization\n",
    "from keras import datasets\n",
    "\n",
    "%matplotlib inline"
   ]
  },
  {
   "cell_type": "code",
   "execution_count": 2,
   "metadata": {},
   "outputs": [],
   "source": [
    "(x_train, y_train), (x_test, y_test) = datasets.mnist.load_data()\n",
    "y_true = y_test"
   ]
  },
  {
   "cell_type": "code",
   "execution_count": 3,
   "metadata": {},
   "outputs": [
    {
     "name": "stdout",
     "output_type": "stream",
     "text": [
      "Train set shape (60000, 28, 28, 1) trainlabel shape (60000,)\n",
      "test set shape (10000, 28, 28, 1) test labels: (10000,)\n"
     ]
    }
   ],
   "source": [
    "# parsing through the dataset\n",
    "\n",
    "img_row, img_cols = 28,28\n",
    "input_shape = (img_row, img_cols, 1)\n",
    "\n",
    "x_train = x_train.reshape(x_train.shape[0],img_cols,img_row,1)\n",
    "\n",
    "x_test = x_test.reshape(x_test.shape[0],img_cols,img_row,1)\n",
    "\n",
    "\n",
    "print(\"Train set shape\", x_train.shape, 'trainlabel shape', y_train.shape)\n",
    "print('test set shape', x_test.shape, 'test labels:', y_test.shape)"
   ]
  },
  {
   "cell_type": "code",
   "execution_count": 4,
   "metadata": {},
   "outputs": [
    {
     "name": "stdout",
     "output_type": "stream",
     "text": [
      "X_train shape: (48000, 28, 28, 1) X_label shape: (48000,)\n",
      "Val_set shape: (12000, 28, 28, 1) val_label shape: (12000,)\n",
      "Test_set shape: (10000, 28, 28, 1) y_test shape: (10000,)\n"
     ]
    }
   ],
   "source": [
    "# split the train set to validatation set\n",
    "x_train, x_val, y_train, y_val = train_test_split(x_train, y_train, test_size=0.2)\n",
    "print('X_train shape:', x_train.shape, 'X_label shape:', y_train.shape)\n",
    "print('Val_set shape:', x_val.shape, 'val_label shape:', y_val.shape)\n",
    "print('Test_set shape:', x_test.shape, 'y_test shape:', y_test.shape)"
   ]
  },
  {
   "cell_type": "code",
   "execution_count": 5,
   "metadata": {},
   "outputs": [],
   "source": [
    "# normalization of data\n",
    "x_train = (x_train - x_train.mean()) / x_train.std()\n",
    "\n",
    "x_val = (x_val - x_val.mean()) / x_val.std()\n",
    "\n",
    "x_test = (x_test - x_test.mean()) / x_test.std()"
   ]
  },
  {
   "cell_type": "code",
   "execution_count": 6,
   "metadata": {},
   "outputs": [
    {
     "name": "stdout",
     "output_type": "stream",
     "text": [
      "X_train shape: (48000, 28, 28, 1) X_label shape: (48000, 10)\n",
      "test set shape: (10000, 28, 28, 1) test label shape (10000, 10)\n",
      "val set shape: (12000, 28, 28, 1) val_lavels shape: (12000, 10)\n"
     ]
    }
   ],
   "source": [
    "num_labels = 10\n",
    "# formatting the data for model input\n",
    "'''\n",
    "def reformat(dataset, labels):\n",
    "    dataset = dataset.reshape(dataset.shape[0], img_row, img_cols,1)\n",
    "    labels = (np.arange(num_labels) == labels[:,None]).astype(np.float32)\n",
    "    return dataset, labels\n",
    "\n",
    "'''\n",
    "\n",
    "y_train = keras.utils.to_categorical(y_train)\n",
    "# X_train , X_label = reformat(X_train, X_label)\n",
    "print('X_train shape:', x_train.shape, 'X_label shape:', y_train.shape)\n",
    "\n",
    "y_test = keras.utils.to_categorical(y_test)\n",
    "# test_set, test_label = reformat(test_set, test_label)\n",
    "print('test set shape:', x_test.shape, 'test label shape', y_test.shape)\n",
    "\n",
    "y_val = keras.utils.to_categorical(y_val)\n",
    "# val_set, val_label = reformat(val_set, val_label)\n",
    "print('val set shape:', x_val.shape, 'val_lavels shape:', y_val.shape)"
   ]
  },
  {
   "cell_type": "code",
   "execution_count": 7,
   "metadata": {},
   "outputs": [],
   "source": [
    "## Defining a model architecture\n",
    "\n",
    "batch_size = 32\n",
    "num_classes = 10\n",
    "epochs = 50\n",
    "input_img = Input(shape=(28,28,1))\n",
    "model = Sequential()\n",
    "\n",
    "model.add(Conv2D(32, kernel_size=(3, 3), activation='relu', kernel_initializer='he_normal',\n",
    "                 input_shape=(28,28,1)))\n",
    "\n",
    "model.add(MaxPooling2D((2, 2)))\n",
    "\n",
    "model.add(Dropout(0.25))\n",
    "\n",
    "model.add(Conv2D(64, (3, 3), activation='relu'))\n",
    "\n",
    "model.add(MaxPooling2D(pool_size=(2, 2)))\n",
    "\n",
    "model.add(Dropout(0.25))\n",
    "\n",
    "model.add(Conv2D(128, (3, 3), activation='relu'))\n",
    "\n",
    "model.add(Dropout(0.4))\n",
    "\n",
    "model.add(Flatten())\n",
    "\n",
    "model.add(Dense(128, activation='relu'))\n",
    "\n",
    "model.add(Dropout(0.3))\n",
    "\n",
    "model.add(Dense(num_classes, activation='softmax'))\n",
    "\n",
    "model.compile(loss=keras.losses.categorical_crossentropy,\n",
    "              optimizer=keras.optimizers.Adam(),\n",
    "              metrics=['accuracy'])"
   ]
  },
  {
   "cell_type": "code",
   "execution_count": 8,
   "metadata": {},
   "outputs": [
    {
     "name": "stdout",
     "output_type": "stream",
     "text": [
      "_________________________________________________________________\n",
      "Layer (type)                 Output Shape              Param #   \n",
      "=================================================================\n",
      "conv2d_1 (Conv2D)            (None, 26, 26, 32)        320       \n",
      "_________________________________________________________________\n",
      "max_pooling2d_1 (MaxPooling2 (None, 13, 13, 32)        0         \n",
      "_________________________________________________________________\n",
      "dropout_1 (Dropout)          (None, 13, 13, 32)        0         \n",
      "_________________________________________________________________\n",
      "conv2d_2 (Conv2D)            (None, 11, 11, 64)        18496     \n",
      "_________________________________________________________________\n",
      "max_pooling2d_2 (MaxPooling2 (None, 5, 5, 64)          0         \n",
      "_________________________________________________________________\n",
      "dropout_2 (Dropout)          (None, 5, 5, 64)          0         \n",
      "_________________________________________________________________\n",
      "conv2d_3 (Conv2D)            (None, 3, 3, 128)         73856     \n",
      "_________________________________________________________________\n",
      "dropout_3 (Dropout)          (None, 3, 3, 128)         0         \n",
      "_________________________________________________________________\n",
      "flatten_1 (Flatten)          (None, 1152)              0         \n",
      "_________________________________________________________________\n",
      "dense_1 (Dense)              (None, 128)               147584    \n",
      "_________________________________________________________________\n",
      "dropout_4 (Dropout)          (None, 128)               0         \n",
      "_________________________________________________________________\n",
      "dense_2 (Dense)              (None, 10)                1290      \n",
      "=================================================================\n",
      "Total params: 241,546\n",
      "Trainable params: 241,546\n",
      "Non-trainable params: 0\n",
      "_________________________________________________________________\n"
     ]
    }
   ],
   "source": [
    "model.summary()"
   ]
  },
  {
   "cell_type": "code",
   "execution_count": 9,
   "metadata": {},
   "outputs": [
    {
     "name": "stdout",
     "output_type": "stream",
     "text": [
      "Train on 48000 samples, validate on 12000 samples\n",
      "Epoch 1/50\n",
      "48000/48000 [==============================] - 10s 214us/step - loss: 0.2772 - acc: 0.9137 - val_loss: 0.0629 - val_acc: 0.9810\n",
      "Epoch 2/50\n",
      "48000/48000 [==============================] - 8s 164us/step - loss: 0.1031 - acc: 0.9692 - val_loss: 0.0503 - val_acc: 0.9852\n",
      "Epoch 3/50\n",
      "48000/48000 [==============================] - 8s 165us/step - loss: 0.0848 - acc: 0.9748 - val_loss: 0.0468 - val_acc: 0.9862\n",
      "Epoch 4/50\n",
      "48000/48000 [==============================] - 8s 164us/step - loss: 0.0717 - acc: 0.9788 - val_loss: 0.0400 - val_acc: 0.9884\n",
      "Epoch 5/50\n",
      "48000/48000 [==============================] - 8s 165us/step - loss: 0.0646 - acc: 0.9810 - val_loss: 0.0446 - val_acc: 0.9866\n",
      "Epoch 6/50\n",
      "48000/48000 [==============================] - 8s 165us/step - loss: 0.0601 - acc: 0.9825 - val_loss: 0.0458 - val_acc: 0.9871\n",
      "Epoch 7/50\n",
      "48000/48000 [==============================] - 8s 165us/step - loss: 0.0579 - acc: 0.9830 - val_loss: 0.0391 - val_acc: 0.9893\n",
      "Epoch 8/50\n",
      "48000/48000 [==============================] - 8s 167us/step - loss: 0.0513 - acc: 0.9849 - val_loss: 0.0390 - val_acc: 0.9889\n",
      "Epoch 9/50\n",
      "48000/48000 [==============================] - 8s 164us/step - loss: 0.0527 - acc: 0.9850 - val_loss: 0.0343 - val_acc: 0.9902\n",
      "Epoch 10/50\n",
      "48000/48000 [==============================] - 8s 166us/step - loss: 0.0482 - acc: 0.9860 - val_loss: 0.0366 - val_acc: 0.9893\n",
      "Epoch 11/50\n",
      "48000/48000 [==============================] - 8s 162us/step - loss: 0.0450 - acc: 0.9873 - val_loss: 0.0358 - val_acc: 0.9908\n",
      "Epoch 12/50\n",
      "48000/48000 [==============================] - 8s 162us/step - loss: 0.0461 - acc: 0.9869 - val_loss: 0.0410 - val_acc: 0.9883\n",
      "Epoch 13/50\n",
      "48000/48000 [==============================] - 8s 161us/step - loss: 0.0426 - acc: 0.9880 - val_loss: 0.0352 - val_acc: 0.9897\n",
      "Epoch 14/50\n",
      "48000/48000 [==============================] - 8s 161us/step - loss: 0.0442 - acc: 0.9871 - val_loss: 0.0359 - val_acc: 0.9908\n",
      "Epoch 15/50\n",
      "48000/48000 [==============================] - 8s 162us/step - loss: 0.0403 - acc: 0.9876 - val_loss: 0.0316 - val_acc: 0.9917\n",
      "Epoch 16/50\n",
      "48000/48000 [==============================] - 8s 163us/step - loss: 0.0367 - acc: 0.9886 - val_loss: 0.0311 - val_acc: 0.9913\n",
      "Epoch 17/50\n",
      "48000/48000 [==============================] - 8s 161us/step - loss: 0.0375 - acc: 0.9891 - val_loss: 0.0325 - val_acc: 0.9912\n",
      "Epoch 18/50\n",
      "48000/48000 [==============================] - 8s 159us/step - loss: 0.0359 - acc: 0.9897 - val_loss: 0.0318 - val_acc: 0.9915\n",
      "Epoch 19/50\n",
      "48000/48000 [==============================] - 8s 161us/step - loss: 0.0340 - acc: 0.9898 - val_loss: 0.0365 - val_acc: 0.9901\n",
      "Epoch 20/50\n",
      "48000/48000 [==============================] - 8s 172us/step - loss: 0.0338 - acc: 0.9902 - val_loss: 0.0398 - val_acc: 0.9888\n",
      "Epoch 21/50\n",
      "48000/48000 [==============================] - 8s 160us/step - loss: 0.0366 - acc: 0.9890 - val_loss: 0.0352 - val_acc: 0.9910\n",
      "Epoch 22/50\n",
      "48000/48000 [==============================] - 8s 157us/step - loss: 0.0300 - acc: 0.9910 - val_loss: 0.0345 - val_acc: 0.9912\n",
      "Epoch 23/50\n",
      "48000/48000 [==============================] - 8s 158us/step - loss: 0.0335 - acc: 0.9901 - val_loss: 0.0316 - val_acc: 0.9919\n",
      "Epoch 24/50\n",
      "48000/48000 [==============================] - 8s 158us/step - loss: 0.0318 - acc: 0.9908 - val_loss: 0.0364 - val_acc: 0.9906\n",
      "Epoch 25/50\n",
      "48000/48000 [==============================] - 8s 159us/step - loss: 0.0326 - acc: 0.9906 - val_loss: 0.0370 - val_acc: 0.9904\n",
      "Epoch 26/50\n",
      "48000/48000 [==============================] - 8s 157us/step - loss: 0.0307 - acc: 0.9912 - val_loss: 0.0335 - val_acc: 0.9909\n",
      "Epoch 27/50\n",
      "48000/48000 [==============================] - 8s 157us/step - loss: 0.0307 - acc: 0.9910 - val_loss: 0.0399 - val_acc: 0.9903\n",
      "Epoch 28/50\n",
      "48000/48000 [==============================] - 8s 159us/step - loss: 0.0318 - acc: 0.9909 - val_loss: 0.0399 - val_acc: 0.9902\n",
      "Epoch 29/50\n",
      "48000/48000 [==============================] - 8s 157us/step - loss: 0.0308 - acc: 0.9913 - val_loss: 0.0370 - val_acc: 0.9913\n",
      "Epoch 30/50\n",
      "48000/48000 [==============================] - 8s 159us/step - loss: 0.0292 - acc: 0.9911 - val_loss: 0.0427 - val_acc: 0.9903\n",
      "Epoch 31/50\n",
      "48000/48000 [==============================] - 8s 160us/step - loss: 0.0314 - acc: 0.9916 - val_loss: 0.0425 - val_acc: 0.9901\n",
      "Epoch 32/50\n",
      "48000/48000 [==============================] - 8s 161us/step - loss: 0.0294 - acc: 0.9911 - val_loss: 0.0336 - val_acc: 0.9918\n",
      "Epoch 33/50\n",
      "48000/48000 [==============================] - 8s 160us/step - loss: 0.0299 - acc: 0.9916 - val_loss: 0.0362 - val_acc: 0.9902\n",
      "Epoch 34/50\n",
      "48000/48000 [==============================] - 8s 158us/step - loss: 0.0310 - acc: 0.9916 - val_loss: 0.0388 - val_acc: 0.9913\n",
      "Epoch 35/50\n",
      "48000/48000 [==============================] - 8s 158us/step - loss: 0.0305 - acc: 0.9914 - val_loss: 0.0352 - val_acc: 0.9913\n",
      "Epoch 36/50\n",
      "48000/48000 [==============================] - 8s 159us/step - loss: 0.0300 - acc: 0.9918 - val_loss: 0.0365 - val_acc: 0.9912\n",
      "Epoch 37/50\n",
      "48000/48000 [==============================] - 8s 156us/step - loss: 0.0310 - acc: 0.9918 - val_loss: 0.0374 - val_acc: 0.9912\n",
      "Epoch 38/50\n",
      "48000/48000 [==============================] - 8s 159us/step - loss: 0.0248 - acc: 0.9928 - val_loss: 0.0332 - val_acc: 0.9913\n",
      "Epoch 39/50\n",
      "48000/48000 [==============================] - 8s 161us/step - loss: 0.0317 - acc: 0.9915 - val_loss: 0.0342 - val_acc: 0.9911\n",
      "Epoch 40/50\n",
      "48000/48000 [==============================] - 8s 160us/step - loss: 0.0247 - acc: 0.9927 - val_loss: 0.0375 - val_acc: 0.9912\n",
      "Epoch 41/50\n",
      "48000/48000 [==============================] - 8s 161us/step - loss: 0.0262 - acc: 0.9932 - val_loss: 0.0446 - val_acc: 0.9906\n",
      "Epoch 42/50\n",
      "48000/48000 [==============================] - 8s 160us/step - loss: 0.0315 - acc: 0.9913 - val_loss: 0.0468 - val_acc: 0.9915\n",
      "Epoch 43/50\n",
      "48000/48000 [==============================] - 8s 161us/step - loss: 0.0297 - acc: 0.9921 - val_loss: 0.0403 - val_acc: 0.9909\n",
      "Epoch 44/50\n",
      "48000/48000 [==============================] - 8s 159us/step - loss: 0.0287 - acc: 0.9926 - val_loss: 0.0376 - val_acc: 0.9922\n",
      "Epoch 45/50\n",
      "48000/48000 [==============================] - 8s 159us/step - loss: 0.0301 - acc: 0.9920 - val_loss: 0.0388 - val_acc: 0.9912\n",
      "Epoch 46/50\n",
      "48000/48000 [==============================] - 8s 158us/step - loss: 0.0307 - acc: 0.9919 - val_loss: 0.0404 - val_acc: 0.9911\n",
      "Epoch 47/50\n",
      "48000/48000 [==============================] - 7s 156us/step - loss: 0.0268 - acc: 0.9927 - val_loss: 0.0409 - val_acc: 0.9911\n",
      "Epoch 48/50\n",
      "48000/48000 [==============================] - 7s 156us/step - loss: 0.0281 - acc: 0.9929 - val_loss: 0.0383 - val_acc: 0.9912\n",
      "Epoch 49/50\n",
      "48000/48000 [==============================] - 8s 159us/step - loss: 0.0282 - acc: 0.9924 - val_loss: 0.0437 - val_acc: 0.9912\n",
      "Epoch 50/50\n",
      "48000/48000 [==============================] - 7s 154us/step - loss: 0.0300 - acc: 0.9917 - val_loss: 0.0394 - val_acc: 0.9919\n"
     ]
    }
   ],
   "source": [
    "hist = model.fit(x_train, y_train, batch_size= batch_size, epochs= epochs, verbose=1, validation_data=(x_val,y_val))"
   ]
  },
  {
   "cell_type": "code",
   "execution_count": 10,
   "metadata": {},
   "outputs": [
    {
     "name": "stdout",
     "output_type": "stream",
     "text": [
      "10000/10000 [==============================] - 0s 49us/step\n"
     ]
    }
   ],
   "source": [
    "score = model.evaluate(x_test, y_test, verbose= 1)"
   ]
  },
  {
   "cell_type": "code",
   "execution_count": 11,
   "metadata": {},
   "outputs": [
    {
     "name": "stdout",
     "output_type": "stream",
     "text": [
      "Test loss: 0.028181150506704715\n",
      "Test accuracy: 0.9938\n"
     ]
    }
   ],
   "source": [
    "print('Test loss:', score[0])\n",
    "print('Test accuracy:', score[1])"
   ]
  },
  {
   "cell_type": "code",
   "execution_count": 12,
   "metadata": {},
   "outputs": [
    {
     "data": {
      "image/png": "[encoded data removed]",
      "text/plain": [
       "<Figure size 432x288 with 1 Axes>"
      ]
     },
     "metadata": {},
     "output_type": "display_data"
    },
    {
     "data": {
      "image/png": "[encoded data removed]",
      "text/plain": [
       "<Figure size 432x288 with 1 Axes>"
      ]
     },
     "metadata": {},
     "output_type": "display_data"
    }
   ],
   "source": [
    "accuracy = hist.history['acc']\n",
    "val_accuracy = hist.history['val_acc']\n",
    "loss = hist.history['loss']\n",
    "val_loss = hist.history['val_loss']\n",
    "epochs = range(len(accuracy))\n",
    "plt.plot(epochs, accuracy, 'bo', label='Training accuracy')\n",
    "plt.plot(epochs, val_accuracy, 'b', label='Validation accuracy')\n",
    "plt.title('Training and validation accuracy')\n",
    "plt.legend()\n",
    "plt.figure()\n",
    "plt.plot(epochs, loss, 'bo', label='Training loss')\n",
    "plt.plot(epochs, val_loss, 'b', label='Validation loss')\n",
    "plt.title('Training and validation loss')\n",
    "plt.legend()\n",
    "plt.show()"
   ]
  },
  {
   "cell_type": "code",
   "execution_count": 13,
   "metadata": {},
   "outputs": [],
   "source": [
    "#get the predictions for the test data\n",
    "predicted_classes = model.predict_classes(x_test)\n",
    "\n",
    "#get the indices to be plotted\n",
    "\n",
    "correct = np.nonzero(predicted_classes==y_true)[0]\n",
    "incorrect = np.nonzero(predicted_classes!=y_true)[0]"
   ]
  },
  {
   "cell_type": "code",
   "execution_count": 14,
   "metadata": {},
   "outputs": [
    {
     "name": "stdout",
     "output_type": "stream",
     "text": [
      "             precision    recall  f1-score   support\n",
      "\n",
      "    Class 0       0.99      1.00      1.00       980\n",
      "    Class 1       1.00      1.00      1.00      1135\n",
      "    Class 2       0.99      0.99      0.99      1032\n",
      "    Class 3       0.99      0.99      0.99      1010\n",
      "    Class 4       0.99      1.00      0.99       982\n",
      "    Class 5       0.99      0.99      0.99       892\n",
      "    Class 6       1.00      0.99      0.99       958\n",
      "    Class 7       0.98      1.00      0.99      1028\n",
      "    Class 8       1.00      0.99      1.00       974\n",
      "    Class 9       1.00      0.99      0.99      1009\n",
      "\n",
      "avg / total       0.99      0.99      0.99     10000\n",
      "\n"
     ]
    }
   ],
   "source": [
    "from sklearn.metrics import classification_report\n",
    "target_names = [\"Class {}\".format(i) for i in range(num_classes)]\n",
    "print(classification_report(y_true, predicted_classes, target_names=target_names))"
   ]
  },
  {
   "cell_type": "code",
   "execution_count": 15,
   "metadata": {},
   "outputs": [
    {
     "data": {
      "image/png": "[encoded data removed]",
      "text/plain": [
       "<Figure size 432x288 with 9 Axes>"
      ]
     },
     "metadata": {},
     "output_type": "display_data"
    }
   ],
   "source": [
    "for i, c in enumerate(correct[:9]):\n",
    "    plt.subplot(3,3,i+1)\n",
    "    plt.imshow(x_test[c].reshape(28,28), cmap='gray', interpolation='none')\n",
    "    plt.title(\"Predicted {}, Class {}\".format(predicted_classes[c], y_true[c]))\n",
    "    plt.tight_layout()"
   ]
  },
  {
   "cell_type": "code",
   "execution_count": 16,
   "metadata": {},
   "outputs": [
    {
     "data": {
      "image/png": "[encoded data removed]",
      "text/plain": [
       "<Figure size 432x288 with 9 Axes>"
      ]
     },
     "metadata": {},
     "output_type": "display_data"
    }
   ],
   "source": [
    "for i, inc in enumerate(incorrect[:9]):\n",
    "    plt.subplot(3,3,i+1)\n",
    "    plt.imshow(x_test[inc].reshape(28,28), cmap='gray', interpolation='none')\n",
    "    plt.title(\"Predicted {}, Class {}\".format(predicted_classes[inc], y_true[inc]))\n",
    "    plt.tight_layout()"
   ]
  },
  {
   "cell_type": "code",
   "execution_count": 17,
   "metadata": {},
   "outputs": [
    {
     "data": {
      "image/png": "[encoded data removed]",
      "text/plain": [
       "<Figure size 432x288 with 1 Axes>"
      ]
     },
     "metadata": {},
     "output_type": "display_data"
    }
   ],
   "source": [
    "test_im = x_train[13]\n",
    "plt.imshow(test_im.reshape(28,28), cmap='gray', interpolation='none')\n",
    "plt.show()"
   ]
  },
  {
   "cell_type": "code",
   "execution_count": null,
   "metadata": {},
   "outputs": [],
   "source": []
  },
  {
   "cell_type": "markdown",
   "metadata": {},
   "source": []
  },
  {
   "cell_type": "code",
   "execution_count": null,
   "metadata": {},
   "outputs": [],
   "source": []
  }
 ],
 "metadata": {
  "kernelspec": {
   "display_name": "Python [conda env:tensor]",
   "language": "python",
   "name": "conda-env-tensor-py"
  },
  "language_info": {
   "codemirror_mode": {
    "name": "ipython",
    "version": 3
   },
   "file_extension": ".py",
   "mimetype": "text/x-python",
   "name": "python",
   "nbconvert_exporter": "python",
   "pygments_lexer": "ipython3",
   "version": "3.5.5"
  }
 },
 "nbformat": 4,
 "nbformat_minor": 2
}

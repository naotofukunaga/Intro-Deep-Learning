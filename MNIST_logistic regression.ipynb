{
 "cells": [
  {
   "cell_type": "code",
   "execution_count": 1,
   "metadata": {},
   "outputs": [
    {
     "name": "stderr",
     "output_type": "stream",
     "text": [
      "Using TensorFlow backend.\n"
     ]
    }
   ],
   "source": [
    "import tensorflow as tf\n",
    "import numpy as np\n",
    "import pandas as pd\n",
    "\n",
    "\n",
    "import matplotlib.pyplot as plt\n",
    "from keras.utils import to_categorical\n",
    "from sklearn.model_selection import train_test_split\n",
    "\n",
    "import keras\n",
    "from keras.models import Sequential\n",
    "from keras.layers import Dense, Dropout, Flatten, Input\n",
    "from keras.layers import MaxPooling2D\n",
    "from keras.layers.normalization import BatchNormalization\n",
    "from keras import datasets\n",
    "\n",
    "%matplotlib inline"
   ]
  },
  {
   "cell_type": "code",
   "execution_count": 2,
   "metadata": {},
   "outputs": [],
   "source": [
    "(x_train, y_train), (x_test, y_test) = datasets.mnist.load_data()\n",
    "y_true = y_test"
   ]
  },
  {
   "cell_type": "code",
   "execution_count": 3,
   "metadata": {},
   "outputs": [
    {
     "name": "stdout",
     "output_type": "stream",
     "text": [
      "Train set shape (60000, 784) trainlabel shape (60000,)\n",
      "test set shape (10000, 784) test labels: (10000,)\n"
     ]
    }
   ],
   "source": [
    "# parsing through the dataset\n",
    "\n",
    "img_row, img_cols = 28,28\n",
    "\n",
    "\n",
    "x_train = x_train.reshape(x_train.shape[0],img_cols*img_row)\n",
    "\n",
    "x_test = x_test.reshape(x_test.shape[0],img_cols*img_row)\n",
    "\n",
    "\n",
    "print(\"Train set shape\", x_train.shape, 'trainlabel shape', y_train.shape)\n",
    "print('test set shape', x_test.shape, 'test labels:', y_test.shape)"
   ]
  },
  {
   "cell_type": "code",
   "execution_count": 4,
   "metadata": {},
   "outputs": [
    {
     "name": "stdout",
     "output_type": "stream",
     "text": [
      "X_train shape: (48000, 784) X_label shape: (48000,)\n",
      "Val_set shape: (12000, 784) val_label shape: (12000,)\n",
      "Test_set shape: (10000, 784) y_test shape: (10000,)\n"
     ]
    }
   ],
   "source": [
    "# split the train set to validatation set\n",
    "x_train, x_val, y_train, y_val = train_test_split(x_train, y_train, test_size=0.2)\n",
    "print('X_train shape:', x_train.shape, 'X_label shape:', y_train.shape)\n",
    "print('Val_set shape:', x_val.shape, 'val_label shape:', y_val.shape)\n",
    "print('Test_set shape:', x_test.shape, 'y_test shape:', y_test.shape)"
   ]
  },
  {
   "cell_type": "code",
   "execution_count": 5,
   "metadata": {},
   "outputs": [],
   "source": [
    "# normalization of data\n",
    "x_train = (x_train - x_train.mean()) / x_train.std()\n",
    "\n",
    "x_val = (x_val - x_val.mean()) / x_val.std()\n",
    "\n",
    "x_test = (x_test - x_test.mean()) / x_test.std()"
   ]
  },
  {
   "cell_type": "code",
   "execution_count": 7,
   "metadata": {},
   "outputs": [
    {
     "name": "stdout",
     "output_type": "stream",
     "text": [
      "X_train shape: (48000, 784) X_label shape: (48000, 10)\n",
      "test set shape: (10000, 784) test label shape (10000, 10)\n",
      "val set shape: (12000, 784) val_lavels shape: (12000, 10)\n"
     ]
    }
   ],
   "source": [
    "y_train = keras.utils.to_categorical(y_train)\n",
    "\n",
    "print('X_train shape:', x_train.shape, 'X_label shape:', y_train.shape)\n",
    "\n",
    "y_test = keras.utils.to_categorical(y_test)\n",
    "\n",
    "print('test set shape:', x_test.shape, 'test label shape', y_test.shape)\n",
    "\n",
    "y_val = keras.utils.to_categorical(y_val)\n",
    "\n",
    "print('val set shape:', x_val.shape, 'val_lavels shape:', y_val.shape)"
   ]
  },
  {
   "cell_type": "markdown",
   "metadata": {},
   "source": [
    "# Plot input data"
   ]
  },
  {
   "cell_type": "code",
   "execution_count": 18,
   "metadata": {},
   "outputs": [
    {
     "data": {
      "image/png": "[encoded data removed]",
      "text/plain": [
       "<Figure size 432x288 with 1 Axes>"
      ]
     },
     "metadata": {},
     "output_type": "display_data"
    }
   ],
   "source": [
    "test_im = x_train[13]\n",
    "plt.imshow(test_im.reshape(28,28), cmap='gray', interpolation='none')\n",
    "plt.show()"
   ]
  },
  {
   "cell_type": "code",
   "execution_count": 8,
   "metadata": {},
   "outputs": [],
   "source": [
    "## Defining a model architecture\n",
    "\n",
    "batch_size = 16\n",
    "num_classes = 10\n",
    "epochs = 20\n",
    "\n",
    "model = Sequential()\n",
    "\n",
    "model.add(Dense(64, activation='tanh', input_shape=(784,)))\n",
    "\n",
    "\n",
    "model.add(Dense(16, activation='tanh'))\n",
    "\n",
    "# model.add(Dropout(0.25))\n",
    "\n",
    "model.add(Dense(num_classes, activation='softmax'))\n",
    "\n",
    "model.compile(loss=keras.losses.categorical_crossentropy,\n",
    "              optimizer=keras.optimizers.Adam(),\n",
    "              metrics=['accuracy'])"
   ]
  },
  {
   "cell_type": "code",
   "execution_count": 9,
   "metadata": {},
   "outputs": [
    {
     "name": "stdout",
     "output_type": "stream",
     "text": [
      "_________________________________________________________________\n",
      "Layer (type)                 Output Shape              Param #   \n",
      "=================================================================\n",
      "dense_1 (Dense)              (None, 64)                50240     \n",
      "_________________________________________________________________\n",
      "dense_2 (Dense)              (None, 16)                1040      \n",
      "_________________________________________________________________\n",
      "dense_3 (Dense)              (None, 10)                170       \n",
      "=================================================================\n",
      "Total params: 51,450\n",
      "Trainable params: 51,450\n",
      "Non-trainable params: 0\n",
      "_________________________________________________________________\n"
     ]
    }
   ],
   "source": [
    "model.summary()"
   ]
  },
  {
   "cell_type": "code",
   "execution_count": 10,
   "metadata": {},
   "outputs": [
    {
     "name": "stdout",
     "output_type": "stream",
     "text": [
      "Train on 48000 samples, validate on 12000 samples\n",
      "Epoch 1/20\n",
      "48000/48000 [==============================] - 2s 49us/step - loss: 0.6842 - acc: 0.8444 - val_loss: 0.3575 - val_acc: 0.9202\n",
      "Epoch 2/20\n",
      "48000/48000 [==============================] - 1s 18us/step - loss: 0.2779 - acc: 0.9337 - val_loss: 0.2338 - val_acc: 0.9432\n",
      "Epoch 3/20\n",
      "48000/48000 [==============================] - 1s 18us/step - loss: 0.1926 - acc: 0.9515 - val_loss: 0.1891 - val_acc: 0.9511\n",
      "Epoch 4/20\n",
      "48000/48000 [==============================] - 1s 17us/step - loss: 0.1476 - acc: 0.9619 - val_loss: 0.1607 - val_acc: 0.9566\n",
      "Epoch 5/20\n",
      "48000/48000 [==============================] - 1s 17us/step - loss: 0.1187 - acc: 0.9695 - val_loss: 0.1499 - val_acc: 0.9585\n",
      "Epoch 6/20\n",
      "48000/48000 [==============================] - 1s 17us/step - loss: 0.0985 - acc: 0.9753 - val_loss: 0.1391 - val_acc: 0.9616\n",
      "Epoch 7/20\n",
      "48000/48000 [==============================] - 1s 18us/step - loss: 0.0843 - acc: 0.9785 - val_loss: 0.1286 - val_acc: 0.9635\n",
      "Epoch 8/20\n",
      "48000/48000 [==============================] - 1s 18us/step - loss: 0.0716 - acc: 0.9813 - val_loss: 0.1308 - val_acc: 0.9615\n",
      "Epoch 9/20\n",
      "48000/48000 [==============================] - 1s 17us/step - loss: 0.0625 - acc: 0.9848 - val_loss: 0.1270 - val_acc: 0.9638\n",
      "Epoch 10/20\n",
      "48000/48000 [==============================] - 1s 18us/step - loss: 0.0541 - acc: 0.9872 - val_loss: 0.1287 - val_acc: 0.9634\n",
      "Epoch 11/20\n",
      "48000/48000 [==============================] - 1s 17us/step - loss: 0.0476 - acc: 0.9881 - val_loss: 0.1169 - val_acc: 0.9666\n",
      "Epoch 12/20\n",
      "48000/48000 [==============================] - 1s 18us/step - loss: 0.0423 - acc: 0.9900 - val_loss: 0.1221 - val_acc: 0.9632\n",
      "Epoch 13/20\n",
      "48000/48000 [==============================] - 1s 18us/step - loss: 0.0367 - acc: 0.9918 - val_loss: 0.1189 - val_acc: 0.9663\n",
      "Epoch 14/20\n",
      "48000/48000 [==============================] - 1s 18us/step - loss: 0.0317 - acc: 0.9936 - val_loss: 0.1224 - val_acc: 0.9647\n",
      "Epoch 15/20\n",
      "48000/48000 [==============================] - 1s 18us/step - loss: 0.0300 - acc: 0.9932 - val_loss: 0.1439 - val_acc: 0.9590\n",
      "Epoch 16/20\n",
      "48000/48000 [==============================] - 1s 18us/step - loss: 0.0268 - acc: 0.9944 - val_loss: 0.1213 - val_acc: 0.9656\n",
      "Epoch 17/20\n",
      "48000/48000 [==============================] - 1s 18us/step - loss: 0.0219 - acc: 0.9957 - val_loss: 0.1257 - val_acc: 0.9638\n",
      "Epoch 18/20\n",
      "48000/48000 [==============================] - 1s 18us/step - loss: 0.0210 - acc: 0.9959 - val_loss: 0.1280 - val_acc: 0.9647\n",
      "Epoch 19/20\n",
      "48000/48000 [==============================] - 1s 18us/step - loss: 0.0207 - acc: 0.9953 - val_loss: 0.1275 - val_acc: 0.9655\n",
      "Epoch 20/20\n",
      "48000/48000 [==============================] - 1s 18us/step - loss: 0.0175 - acc: 0.9965 - val_loss: 0.1266 - val_acc: 0.9652\n"
     ]
    }
   ],
   "source": [
    "hist = model.fit(x_train, y_train, batch_size= 256, epochs= epochs, verbose=1, validation_data=(x_val,y_val))"
   ]
  },
  {
   "cell_type": "code",
   "execution_count": 11,
   "metadata": {},
   "outputs": [
    {
     "name": "stdout",
     "output_type": "stream",
     "text": [
      "10000/10000 [==============================] - 0s 25us/step\n"
     ]
    }
   ],
   "source": [
    "score = model.evaluate(x_test, y_test, verbose= 1)"
   ]
  },
  {
   "cell_type": "code",
   "execution_count": 12,
   "metadata": {},
   "outputs": [
    {
     "name": "stdout",
     "output_type": "stream",
     "text": [
      "Test loss: 0.11582171099646948\n",
      "Test accuracy: 0.9685\n"
     ]
    }
   ],
   "source": [
    "print('Test loss:', score[0])\n",
    "print('Test accuracy:', score[1])"
   ]
  },
  {
   "cell_type": "code",
   "execution_count": 13,
   "metadata": {},
   "outputs": [
    {
     "data": {
      "image/png": "[encoded data removed]",
      "text/plain": [
       "<Figure size 432x288 with 1 Axes>"
      ]
     },
     "metadata": {},
     "output_type": "display_data"
    },
    {
     "data": {
      "image/png": "[encoded data removed]",
      "text/plain": [
       "<Figure size 432x288 with 1 Axes>"
      ]
     },
     "metadata": {},
     "output_type": "display_data"
    }
   ],
   "source": [
    "accuracy = hist.history['acc']\n",
    "val_accuracy = hist.history['val_acc']\n",
    "loss = hist.history['loss']\n",
    "val_loss = hist.history['val_loss']\n",
    "epochs = range(len(accuracy))\n",
    "plt.plot(epochs, accuracy, 'bo', label='Training accuracy')\n",
    "plt.plot(epochs, val_accuracy, 'b', label='Validation accuracy')\n",
    "plt.title('Training and validation accuracy')\n",
    "plt.legend()\n",
    "plt.figure()\n",
    "plt.plot(epochs, loss, 'bo', label='Training loss')\n",
    "plt.plot(epochs, val_loss, 'b', label='Validation loss')\n",
    "plt.title('Training and validation loss')\n",
    "plt.legend()\n",
    "plt.show()"
   ]
  },
  {
   "cell_type": "code",
   "execution_count": 14,
   "metadata": {},
   "outputs": [],
   "source": [
    "#get the predictions for the test data\n",
    "predicted_classes = model.predict_classes(x_test)\n",
    "\n",
    "#get the indices to be plotted\n",
    "\n",
    "correct = np.nonzero(predicted_classes==y_true)[0]\n",
    "incorrect = np.nonzero(predicted_classes!=y_true)[0]"
   ]
  },
  {
   "cell_type": "code",
   "execution_count": 15,
   "metadata": {},
   "outputs": [
    {
     "name": "stdout",
     "output_type": "stream",
     "text": [
      "             precision    recall  f1-score   support\n",
      "\n",
      "    Class 0       0.98      0.98      0.98       980\n",
      "    Class 1       0.99      0.99      0.99      1135\n",
      "    Class 2       0.96      0.97      0.96      1032\n",
      "    Class 3       0.96      0.97      0.96      1010\n",
      "    Class 4       0.97      0.97      0.97       982\n",
      "    Class 5       0.97      0.96      0.96       892\n",
      "    Class 6       0.96      0.97      0.97       958\n",
      "    Class 7       0.96      0.96      0.96      1028\n",
      "    Class 8       0.97      0.96      0.96       974\n",
      "    Class 9       0.97      0.96      0.96      1009\n",
      "\n",
      "avg / total       0.97      0.97      0.97     10000\n",
      "\n"
     ]
    }
   ],
   "source": [
    "from sklearn.metrics import classification_report\n",
    "target_names = [\"Class {}\".format(i) for i in range(num_classes)]\n",
    "print(classification_report(y_true, predicted_classes, target_names=target_names))"
   ]
  },
  {
   "cell_type": "code",
   "execution_count": 16,
   "metadata": {},
   "outputs": [
    {
     "data": {
      "image/png": "[encoded data removed]",
      "text/plain": [
       "<Figure size 432x288 with 9 Axes>"
      ]
     },
     "metadata": {},
     "output_type": "display_data"
    }
   ],
   "source": [
    "for i, c in enumerate(correct[:9]):\n",
    "    plt.subplot(3,3,i+1)\n",
    "    plt.imshow(x_test[c].reshape(28,28), cmap='gray', interpolation='none')\n",
    "    plt.title(\"Predicted {}, Class {}\".format(predicted_classes[c], y_true[c]))\n",
    "    plt.tight_layout()"
   ]
  },
  {
   "cell_type": "code",
   "execution_count": 17,
   "metadata": {},
   "outputs": [
    {
     "data": {
      "image/png": "[encoded data removed]",
      "text/plain": [
       "<Figure size 432x288 with 9 Axes>"
      ]
     },
     "metadata": {},
     "output_type": "display_data"
    }
   ],
   "source": [
    "for i, inc in enumerate(incorrect[:9]):\n",
    "    plt.subplot(3,3,i+1)\n",
    "    plt.imshow(x_test[inc].reshape(28,28), cmap='gray', interpolation='none')\n",
    "    plt.title(\"Predicted {}, Class {}\".format(predicted_classes[inc], y_true[inc]))\n",
    "    plt.tight_layout()"
   ]
  },
  {
   "cell_type": "markdown",
   "metadata": {},
   "source": [
    "# Using different bencmark dataset "
   ]
  },
  {
   "cell_type": "code",
   "execution_count": null,
   "metadata": {},
   "outputs": [],
   "source": [
    "from keras.datasets import boston_housing\n",
    "\n",
    "(x_train, y_train), (x_test, y_test) = boston_housing.load_data()\n"
   ]
  }
 ],
 "metadata": {
  "kernelspec": {
   "display_name": "Python [conda env:tensor]",
   "language": "python",
   "name": "conda-env-tensor-py"
  },
  "language_info": {
   "codemirror_mode": {
    "name": "ipython",
    "version": 3
   },
   "file_extension": ".py",
   "mimetype": "text/x-python",
   "name": "python",
   "nbconvert_exporter": "python",
   "pygments_lexer": "ipython3",
   "version": "3.5.5"
  }
 },
 "nbformat": 4,
 "nbformat_minor": 2
}
